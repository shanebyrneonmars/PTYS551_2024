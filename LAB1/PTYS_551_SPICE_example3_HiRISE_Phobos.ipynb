{
 "cells": [
  {
   "cell_type": "markdown",
   "metadata": {},
   "source": [
    "# Worked example: HiRISE views Phobos\n",
    "\n",
    "First, let's grab the kernels of interest. Go to the NAIF PDS archive and select 'subset' beside the MRO dataset.\n",
    "https://naif.jpl.nasa.gov/naif/data_archived.html\n",
    "\n",
    "Let's pull the data for a six hour period that contains the observations. Start and stop times are ```2008-03-23T18:00:00``` and ```2008-03-24T10:00:00``` respectively.\n",
    "This will generate a small zip file. Unpack this in some working directory. The file contents should include:\n",
    "```\n",
    "mro_2008_v14_080323_080324.tm\n",
    "urls_mrosp_1000_080323_080324.txt\n",
    "```\n",
    "These are the meta kernel and the list of the URLs of the actual kernels needed respectively. Now we need to download the the list of kernels using ```wget```. Two files are included that both contain the command needed (they can run on a Windows or Mac/Unix system directly).\n",
    "```\n",
    "wget_mrosp_1000_080323_080324.bat\n",
    "wget_mrosp_1000_080323_080324.tcsh\n",
    "```\n",
    "Finally, once downloading is complete, we need to edit the meta kernel. The PATH_VALUES variable is initially set to \"./data\" and we need to replace this \".\" with the full path to that 'data' directory. e.g. in my case I replaced \"./\" with \"/Users/shane/Desktop/test/mrosp_1000/\".\n",
    "\n",
    "Let's load up a few common modules as well as spicepy. After that we'll ```furnsh``` the meta kernel and we should be all set to start."
   ]
  },
  {
   "cell_type": "code",
   "execution_count": 2,
   "metadata": {},
   "outputs": [],
   "source": [
    "import numpy as np\n",
    "import matplotlib.pyplot as plt\n",
    "from mpl_toolkits.mplot3d import Axes3D\n",
    "\n",
    "import spiceypy as spice\n",
    "spice.furnsh('/Users/shane/Desktop/test/mro_2008_v14_080323_080324.tm')\n"
   ]
  },
  {
   "cell_type": "markdown",
   "metadata": {},
   "source": [
    "The two HiRISE images showing Phobos are ten minutes apart:\n",
    "* PSP_007769_9010 taken at: 2008-Mar-23 20:55:31\n",
    "* PSP_007769_9015 taken at: 2008-Mar-23 21:05:31\n",
    "\n",
    "<img src=\"PSP_007769_9010_RED.jpg\" width=\"250\">PSP_007769_9010<img src=\"PSP_007769_9015_RED.jpg\" width=\"250\">PSP_007769_9015\n"
   ]
  },
  {
   "cell_type": "code",
   "execution_count": 6,
   "metadata": {},
   "outputs": [
    {
     "name": "stdout",
     "output_type": "stream",
     "text": [
      "259577796.18562964 259578396.18562967\n"
     ]
    }
   ],
   "source": [
    "utc1 = \"2008-Mar-23 20:55:31\"\n",
    "utc2 = \"2008-Mar-23 21:05:31\"\n",
    "et1 = spice.str2et(utc1)\n",
    "et2 = spice.str2et(utc2)\n",
    "\n",
    "print(et1, et2)\n",
    "\n"
   ]
  },
  {
   "cell_type": "code",
   "execution_count": null,
   "metadata": {},
   "outputs": [],
   "source": []
  }
 ],
 "metadata": {
  "kernelspec": {
   "display_name": "ptys551",
   "language": "python",
   "name": "python3"
  },
  "language_info": {
   "codemirror_mode": {
    "name": "ipython",
    "version": 3
   },
   "file_extension": ".py",
   "mimetype": "text/x-python",
   "name": "python",
   "nbconvert_exporter": "python",
   "pygments_lexer": "ipython3",
   "version": "3.10.14"
  }
 },
 "nbformat": 4,
 "nbformat_minor": 2
}
