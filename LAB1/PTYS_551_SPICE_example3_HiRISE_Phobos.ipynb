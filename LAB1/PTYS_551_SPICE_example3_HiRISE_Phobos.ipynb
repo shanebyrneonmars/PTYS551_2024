{
 "cells": [
  {
   "cell_type": "markdown",
   "metadata": {},
   "source": [
    "# Worked example: HiRISE views Phobos\n",
    "\n",
    "First, let's grab the kernels of interest. Go to the NAIF PDS archive and select 'subset' beside the MRO dataset.\n",
    "https://naif.jpl.nasa.gov/naif/data_archived.html\n",
    "\n",
    "Let's pull the data for a six hour period that contains the observations. Start and stop times are ```2008-03-23T18:00:00``` and ```2008-03-24T10:00:00``` respectively.\n",
    "This will generate a small zip file. Unpack this in some working directory. The file contents should include:\n",
    "```\n",
    "mro_2008_v14_080323_080324.tm\n",
    "urls_mrosp_1000_080323_080324.txt\n",
    "```\n",
    "These are the meta kernel and the list of the URLs of the actual kernels needed respectively. Now we need to download the the list of kernels using ```wget```. Two files are included that both contain the command needed (they can run on a Windows or Mac/Unix system directly).\n",
    "```\n",
    "wget_mrosp_1000_080323_080324.bat\n",
    "wget_mrosp_1000_080323_080324.tcsh\n",
    "```\n",
    "Finally, once downloading is complete, we need to edit the meta kernel. The PATH_VALUES variable is initially set to \"./data\" and we need to replace this \".\" with the full path to that 'data' directory. e.g. in my case I replaced \"./\" with \"/Users/shane/Desktop/test/mrosp_1000/\".\n",
    "\n",
    "Let's load up a few common modules as well as spicepy. After that we'll ```furnsh``` the meta kernel and we should be all set to start."
   ]
  },
  {
   "cell_type": "code",
   "execution_count": 2,
   "metadata": {},
   "outputs": [],
   "source": [
    "import numpy as np\n",
    "import matplotlib.pyplot as plt\n",
    "from mpl_toolkits.mplot3d import Axes3D\n",
    "\n",
    "import spiceypy as spice\n",
    "spice.furnsh('/Users/shane/Desktop/test/mro_2008_v14_080323_080324.tm')\n"
   ]
  },
  {
   "cell_type": "markdown",
   "metadata": {},
   "source": [
    "The two HiRISE images showing Phobos are ten minutes apart:\n",
    "* PSP_007769_9010 taken at: 2008-Mar-23 20:55:31\n",
    "* PSP_007769_9015 taken at: 2008-Mar-23 21:05:31\n",
    "\n",
    "<img src=\"PSP_007769_9010_RED.jpg\" width=\"250\">PSP_007769_9010<img src=\"PSP_007769_9015_RED.jpg\" width=\"250\">PSP_007769_9015\n"
   ]
  },
  {
   "cell_type": "code",
   "execution_count": 3,
   "metadata": {},
   "outputs": [
    {
     "name": "stdout",
     "output_type": "stream",
     "text": [
      "259577796.18562964 259578396.18562967\n"
     ]
    }
   ],
   "source": [
    "utc1 = \"2008-Mar-23 20:55:31\"\n",
    "utc2 = \"2008-Mar-23 21:05:31\"\n",
    "et1 = spice.str2et(utc1)\n",
    "et2 = spice.str2et(utc2)\n",
    "\n",
    "with spice.no_found_check():\n",
    "    [spcid, f]  = spice.bodn2c('MRO')                # Retrieve the ID code for the spacecraft\n",
    "with spice.no_found_check():\n",
    "    [instid,f] = spice.bodn2c('MRO_HIRISE')          # Retrieve the ID code for the instrument\n",
    "\n",
    "[shape, frame, bsight, nbounds, bounds] = spice.getfov(instid, 20)     # Find the corner points of the HiRISE FOV\n",
    "[num, radii] = spice.bodvrd('PHOBOS', 'RADII', 3)                      # Retrieve Phobos Radii to help conversion to lat/lon\n"
   ]
  },
  {
   "cell_type": "code",
   "execution_count": 49,
   "metadata": {},
   "outputs": [
    {
     "name": "stdout",
     "output_type": "stream",
     "text": [
      "Within an hour of these images, Phobos was with HiRISE's FOV within these time ranges\n",
      "2008-03-23T20:55:25.6   to   2008-03-23T20:55:30.9\n",
      "2008-03-23T20:59:33.2   to   2008-03-23T20:59:36.4\n",
      "2008-03-23T21:05:25.5   to   2008-03-23T21:05:31.1\n"
     ]
    }
   ],
   "source": [
    "\n",
    "cell = spice.cell_double(2)\n",
    "spice.wninsd(et1-1800,et2+1800,cell)\n",
    "ww = spice.cell_double(2000)\n",
    "spice.gftfov('MRO_HIRISE','PHOBOS', 'ELLIPSOID', 'IAU_PHOBOS', 'LT+S', 'MRO', 1.0, cell, ww)\n",
    "\n",
    "print(\"Within an hour of these images, Phobos was with HiRISE's FOV within these time ranges\")\n",
    "for i in range(0,spice.wncard(ww)):\n",
    "    [wet1, wet2] = spice.wnfetd(ww,i)\n",
    "    print(spice.et2utc(wet1,'ISOC',1), \"  to  \",spice.et2utc(wet2,'ISOC',1))\n"
   ]
  },
  {
   "cell_type": "code",
   "execution_count": 50,
   "metadata": {},
   "outputs": [],
   "source": [
    "tracks = np.full([spice.wncard(ww),2,100],np.nan)\n",
    "\n",
    "for i in range(0,spice.wncard(ww)):\n",
    "    [wet1, wet2] = spice.wnfetd(ww,i)\n",
    "    tim = np.linspace(wet1,wet2,100)\n",
    "    \n",
    "    for j in range(0,100):\n",
    "        with spice.no_found_check():\n",
    "            [spoint, trgepc, srfvec,f] = spice.sincpt('ELLIPSOID','PHOBOS',tim[j], 'IAU_PHOBOS', 'LT+S','MRO',frame, bsight)\n",
    "            [lon, lat, alt] = spice.recpgr('PHOBOS', spoint, radii[0], (radii[0]-radii[2])/radii[0])\n",
    "        if f == True:\n",
    "            tracks[i,0,j] = 360.0 - lon*180/np.pi\n",
    "            tracks[i,1,j] = lat*180/np.pi\n"
   ]
  },
  {
   "cell_type": "code",
   "execution_count": 51,
   "metadata": {},
   "outputs": [
    {
     "data": {
      "image/png": "[encoded data removed]",
      "text/plain": [
       "<Figure size 1000x600 with 1 Axes>"
      ]
     },
     "metadata": {},
     "output_type": "display_data"
    }
   ],
   "source": [
    "plt.figure(figsize=(10, 6))\n",
    "plt.plot(tracks[0,0,:], tracks[0,1,:], marker='o', linestyle='-', color='b')\n",
    "plt.plot(tracks[1,0,:], tracks[1,1,:], marker='o', linestyle='-', color='r')\n",
    "plt.plot(tracks[2,0,:], tracks[2,1,:], marker='o', linestyle='-', color='g')\n",
    "plt.xlabel('Longitude')\n",
    "plt.ylabel('Latitude')\n",
    "plt.grid(True)\n",
    "plt.xlim([0,360])\n",
    "plt.ylim([-90,90])\n",
    "plt.show()\n"
   ]
  },
  {
   "cell_type": "code",
   "execution_count": null,
   "metadata": {},
   "outputs": [],
   "source": []
  }
 ],
 "metadata": {
  "kernelspec": {
   "display_name": "ptys551",
   "language": "python",
   "name": "python3"
  },
  "language_info": {
   "codemirror_mode": {
    "name": "ipython",
    "version": 3
   },
   "file_extension": ".py",
   "mimetype": "text/x-python",
   "name": "python",
   "nbconvert_exporter": "python",
   "pygments_lexer": "ipython3",
   "version": "3.10.14"
  }
 },
 "nbformat": 4,
 "nbformat_minor": 2
}
