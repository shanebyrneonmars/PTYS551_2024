{
 "cells": [
  {
   "cell_type": "markdown",
   "metadata": {},
   "source": [
    "# How To: Convert EMIT .nc to .envi\n",
    "\n",
    "---\n",
    "\n",
    "The `reformat.py` script available in the [emit-sds/emit-utils](https://github.com/emit-sds/emit-utils) repository can be used to convert EMIT netCDF files (as delivered to the LP DAAC) to ENVI files. This script also can apply the included GLT to orthorectify the image if desired.\n",
    "\n",
    "This jupyter notebook utilizes the EMIT-utils repository to provide users with programmatic routes to accomplish their EMIT reformatting workflows.\n",
    "\n",
    "**Requirements:**\n",
    "+ A NASA [Earthdata Login](https://urs.earthdata.nasa.gov/) account is required to download EMIT data   \n",
    "+ Selected the `emit_tutorials` environment as the kernel for this notebook.\n",
    "  + For instructions on setting up the environment, follow the the `setup_instructions.md` included in the `/setup/` folder of the repository.  \n",
    "+ Downloaded the necessary EMIT files to the `../data/` folder.\n",
    "  + Instructions and a list of files can be found in the `setup_instructions.md` included in the `/setup/` folder of the repository.\n",
    "\n",
    "**Learning Objectives**\n",
    "+ How to use the `reformat.py` function from the `emit-utils` repository to convert an EMIT netCDF4 to a `.envi` file.\n",
    "\n",
    "---"
   ]
  },
  {
   "cell_type": "markdown",
   "metadata": {},
   "source": [
    "## Clone and Install emit-utils\n",
    "\n",
    "Clone the [emit-utils](https://github.com/emit-sds/emit-utils) repository."
   ]
  },
  {
   "cell_type": "code",
   "execution_count": 4,
   "metadata": {
    "vscode": {
     "languageId": "python"
    }
   },
   "outputs": [
    {
     "name": "stdout",
     "output_type": "stream",
     "text": [
      "fatal: destination path '../emit_utils' already exists and is not an empty directory.\n"
     ]
    }
   ],
   "source": [
    "!git clone https://github.com/emit-sds/emit-utils.git ../emit_utils/"
   ]
  },
  {
   "cell_type": "markdown",
   "metadata": {},
   "source": [
    "This will copy the `emit-utils` repository to a folder within this repository. \n",
    "\n",
    "After you have copied it, use `pip` package manager to install the directory as a package to ensure you have all of the dependencies and be used in the command line."
   ]
  },
  {
   "cell_type": "code",
   "execution_count": 5,
   "metadata": {
    "vscode": {
     "languageId": "python"
    }
   },
   "outputs": [
    {
     "name": "stdout",
     "output_type": "stream",
     "text": [
      "Obtaining file:///Volumes/Utumno/EMIT/EMIT-Data-Resources/emit_utils\n",
      "  Preparing metadata (setup.py) ... \u001b[?25ldone\n",
      "\u001b[?25hRequirement already satisfied: gdal>=2.0 in /Users/phillms1/opt/anaconda3/envs/emit_tutorials/lib/python3.9/site-packages (from emit-utils==1.2.3) (3.6.4)\n",
      "Requirement already satisfied: spectral>=0.21 in /Users/phillms1/opt/anaconda3/envs/emit_tutorials/lib/python3.9/site-packages (from emit-utils==1.2.3) (0.23.1)\n",
      "Requirement already satisfied: numpy>=1.19.2 in /Users/phillms1/opt/anaconda3/envs/emit_tutorials/lib/python3.9/site-packages (from emit-utils==1.2.3) (1.24.3)\n",
      "Requirement already satisfied: netcdf4>=1.5.8 in /Users/phillms1/opt/anaconda3/envs/emit_tutorials/lib/python3.9/site-packages (from emit-utils==1.2.3) (1.6.3)\n",
      "Collecting argparse>=1.0 (from emit-utils==1.2.3)\n",
      "  Using cached argparse-1.4.0-py2.py3-none-any.whl (23 kB)\n",
      "Requirement already satisfied: cftime in /Users/phillms1/opt/anaconda3/envs/emit_tutorials/lib/python3.9/site-packages (from netcdf4>=1.5.8->emit-utils==1.2.3) (1.6.2)\n",
      "Installing collected packages: argparse, emit-utils\n",
      "  Running setup.py develop for emit-utils\n",
      "Successfully installed argparse-1.4.0 emit-utils-1.2.3\n"
     ]
    }
   ],
   "source": [
    "!pip install --editable ../emit_utils"
   ]
  },
  {
   "cell_type": "markdown",
   "metadata": {},
   "source": [
    "After successfully installing `emit-utils`, you can use the scripts contained within as part of your workflows. \n",
    "\n",
    "---"
   ]
  },
  {
   "cell_type": "markdown",
   "metadata": {},
   "source": [
    "## Executing the Reformat Script\n",
    "\n",
    "Before calling the `reformat.py` script, create an output directory for the `.envi` files that will be produced."
   ]
  },
  {
   "cell_type": "code",
   "execution_count": 3,
   "metadata": {
    "vscode": {
     "languageId": "python"
    }
   },
   "outputs": [],
   "source": [
    "import os\n",
    "outpath = '../data/envi' \n",
    "if not os.path.exists(outpath):\n",
    "    os.makedirs(outpath)"
   ]
  },
  {
   "cell_type": "markdown",
   "metadata": {},
   "source": [
    "Now, execute the `reformat.py` script contained in the emit-utils repository. When executing this script, provide the path to the `.nc` file, followed by the directory to place the `.envi` files in. If you wish to apply the GLT or orthorectify, include `--orthorectify` as an argument."
   ]
  },
  {
   "cell_type": "code",
   "execution_count": 8,
   "metadata": {
    "vscode": {
     "languageId": "python"
    }
   },
   "outputs": [],
   "source": [
    "# !python ../emit_utils/emit_utils/reformat.py ../data/EMIT_L2A_RFL_001_20230329T145406_2308809_052.nc ../data/envi/ --orthorectify\n",
    "!python ../emit_utils/emit_utils/reformat.py ../data/EMIT_L2A_MASK_001_20230329T145406_2308809_052.nc ../data/envi/ --orthorectify\n",
    "\n",
    "# after coming out of the quality flag and masking tutorial, the data are already orthorectified.\n",
    "# !python ../emit_utils/emit_utils/reformat.py ../data/Pajonales_example_quality_nc_out.nc ../data/envi/ "
   ]
  },
  {
   "cell_type": "markdown",
   "metadata": {},
   "source": [
    "This will orthorectify the image, create an ENVI header, and save it in `.envi` format inside the `../data/envi` folder."
   ]
  },
  {
   "cell_type": "markdown",
   "metadata": {},
   "source": [
    "---\n",
    "\n",
    "## Contact Info:  \n",
    "\n",
    "Email: LPDAAC@usgs.gov  \n",
    "Voice: +1-866-573-3222  \n",
    "Organization: Land Processes Distributed Active Archive Center (LP DAAC)¹  \n",
    "Website: <https://lpdaac.usgs.gov/>  \n",
    "Date last modified: 01-09-2023  \n",
    "\n",
    "¹Work performed under USGS contract G15PD00467 for NASA contract NNG14HH33I.  "
   ]
  }
 ],
 "metadata": {
  "kernelspec": {
   "display_name": "Python 3 (ipykernel)",
   "language": "python",
   "name": "python3"
  },
  "language_info": {
   "codemirror_mode": {
    "name": "ipython",
    "version": 3
   },
   "file_extension": ".py",
   "mimetype": "text/x-python",
   "name": "python",
   "nbconvert_exporter": "python",
   "pygments_lexer": "ipython3",
   "version": "3.9.16"
  },
  "vscode": {
   "interpreter": {
    "hash": "ee32eb811eece122811842209709e899a392a6a8deb39746eb88e988164e27f9"
   }
  }
 },
 "nbformat": 4,
 "nbformat_minor": 4
}
